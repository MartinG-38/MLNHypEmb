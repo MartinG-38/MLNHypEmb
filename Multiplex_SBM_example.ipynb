{
 "cells": [
  {
   "cell_type": "markdown",
   "id": "84944584-6dfd-420d-9938-1c1ae4b91c7f",
   "metadata": {},
   "source": [
    "# Hyperbolic Embedding of Multiplex Stochastic Block Model Networks"
   ]
  },
  {
   "cell_type": "markdown",
   "id": "b4e0bc64-8e7d-4f6b-aada-c8f9d7fbbe8a",
   "metadata": {},
   "source": [
    "This notebook demonstrates how to visualize multiplex networks in hyperbolic space using our MLNHypEmb embedding method. We focus on networks generated using the Stochastic Block Model (SBM), which creates networks with clear community structures. The visualization shows:\n",
    "\n",
    "- Multiple network layers embedded simultaneously in hyperbolic space\n",
    "- Node positions reflecting both community structure and network topology\n",
    "- Node sizes proportional to node importance (degree)\n",
    "- Community membership indicated by node colors\n",
    "- Each layer visualized in a separate 2D hyperbolic disk\n",
    "\n",
    "This visualization technique helps reveal both the global organization of the multiplex network and the specific patterns within each layer, making it particularly useful for analyzing complex multi-layer systems."
   ]
  },
  {
   "cell_type": "markdown",
   "id": "5b2e91e6-7038-4bc2-94f5-0a56b830e57a",
   "metadata": {},
   "source": [
    "### Import usefull librairies"
   ]
  },
  {
   "cell_type": "code",
   "execution_count": 1,
   "id": "cd7088ec-cdb0-4458-a94d-530b9e724187",
   "metadata": {},
   "outputs": [],
   "source": [
    "# Import required libraries for the multilayer network analysis and visualization\n",
    "\n",
    "# Custom modules for data generation and embedding\n",
    "from src.OpenData import generate_sbm_multilayer  # Generate stochastic block model for multilayer networks\n",
    "from src.EmbeddingMethod import MlHypEmb         # Hyperbolic embedding method for multilayer networks\n",
    "\n",
    "# Scientific computing and visualization libraries\n",
    "import numpy as np                # For numerical operations and array handling\n",
    "import matplotlib.pyplot as plt   # For creating visualizations\n",
    "import networkx as nx            # For graph/network operations and analysis"
   ]
  },
  {
   "cell_type": "markdown",
   "id": "3880e651-62c3-4f97-8102-00c5da30c6c8",
   "metadata": {},
   "source": [
    "### Generate Multilayers SBM model "
   ]
  },
  {
   "cell_type": "code",
   "execution_count": null,
   "id": "838270d4-fa1d-4734-89b1-5165ade5d15c",
   "metadata": {},
   "outputs": [],
   "source": [
    "# Parameters for the Stochastic Block Model (SBM)\n",
    "n_nodes = 100        # Total number of nodes in each layer\n",
    "n_layers = 3         # Number of network layers\n",
    "n_communities = 3    # Number of communities/blocks in the network\n",
    "p_intra = 0.16      # Probability of connection within communities\n",
    "p_inter = 0.06      # Probability of connection between communities\n",
    "mu = 20             # Coupling parameter for emebdding\n",
    "beta = 5            # Parameter for inter layers connexions\n",
    "\n",
    "# Define layer identifiers\n",
    "layers_names = np.arange(n_layers)\n",
    "\n",
    "# Generate multilayer SBM model\n",
    "# Returns:\n",
    "# - G_tot: List of NetworkX graphs (one per layer)\n",
    "# - mat_tot: List of adjacency matrices\n",
    "# - G_global: Global adjacency matrix combining all layers\n",
    "# - node_com: Dictionary mapping nodes to their community assignments\n",
    "G_tot, mat_tot, G_global, node_com = generate_sbm_multilayer(\n",
    "    n_nodes=n_nodes,             \n",
    "    n_layers=n_layers,           \n",
    "    n_communities=n_communities, \n",
    "    p_intra=p_intra,            \n",
    "    p_inter=p_inter,            \n",
    "    mu=mu,                      \n",
    "    beta=beta                    \n",
    ")\n"
   ]
  },
  {
   "cell_type": "markdown",
   "id": "73556976-4876-49c0-b4e0-3f631392d1a4",
   "metadata": {},
   "source": [
    "### Embed Multilayer SBM model in Poincaré Disk "
   ]
  },
  {
   "cell_type": "code",
   "execution_count": 3,
   "id": "29d5ef34-bb85-4047-bba6-900084b9d30e",
   "metadata": {},
   "outputs": [
    {
     "name": "stdout",
     "output_type": "stream",
     "text": []
    }
   ],
   "source": [
    "# Create embedding object with hyperbolic parameters\n",
    "Emb_obj = MlHypEmb(preweight=True, weight='weight', beta=2500, eta='auto', \n",
    "                   method='Isomap', beta_dist=10, metric='precomputed', \n",
    "                   n_neighbors='auto', radius='degree')\n",
    "\n",
    "# Load multilayer network data into embedding object\n",
    "Emb_obj.Load_data(matrices=mat_tot, mu_mat=None, L_global=G_global)\n",
    "\n",
    "# Compute the hyperbolic embedding\n",
    "Emb_obj.Embedding(n_jobs=-1)\n"
   ]
  },
  {
   "cell_type": "markdown",
   "id": "483554aa-cc7d-47d5-ae5f-bc751794fe87",
   "metadata": {},
   "source": [
    "### Vizualization "
   ]
  },
  {
   "cell_type": "code",
   "execution_count": 4,
   "id": "cce54673-b0ae-474f-82e9-8e31d3712215",
   "metadata": {},
   "outputs": [
    {
     "name": "stdout",
     "output_type": "stream",
     "text": []
    },
    {
     "name": "stdout",
     "output_type": "stream",
     "text": []
    }
   ],
   "source": [
    "## Visualization of Multiplex Network Embeddings\n",
    "\n",
    "# Set up the visualization parameters\n",
    "fig = plt.figure(figsize=(5 * (n_layers + 1) // 2, 5 * 2))  # Dynamic figure size based on number of layers\n",
    "plt.rcParams['axes.linewidth'] = 2  # Enhanced axis line width for better visibility\n",
    "\n",
    "# Process and visualize each layer of the multiplex network\n",
    "for layer_i in range(len(layers_names)):\n",
    "    # Extract layer identification information\n",
    "    layer_id = list(layers_names)[layer_i]\n",
    "    layer_name = layers_names[layer_id]\n",
    "    \n",
    "    print('Plotting layer:', layer_name, layer_id)\n",
    "    \n",
    "    # Create subplot for current layer\n",
    "    ax1 = fig.add_subplot(2, (n_layers + 1) // 2, layer_i + 1)\n",
    "    \n",
    "    # Get network and embedding data for current layer\n",
    "    G = G_tot[layer_i]  # Network structure\n",
    "    pos_G = Emb_obj.embeddings[layer_i]  # Node positions in hyperbolic space\n",
    "    \n",
    "    # Create dictionary of node positions for NetworkX\n",
    "    pos_G_d = {node: pos_G[i, :] for i, node in enumerate(G.nodes())}\n",
    "\n",
    "    # Plot reference point and boundary\n",
    "    ax1.plot([0], [0], 'o', color='black', markersize=3)  # Origin point\n",
    "    circle = plt.Circle((0, 0), 1, edgecolor='gray', facecolor='none', linewidth=1)  # Unit circle boundary\n",
    "    ax1.add_artist(circle)\n",
    "\n",
    "    # Calculate node sizes based on weighted degree centrality\n",
    "    deg = np.array(list(dict(G.degree(weight='weight')).values()))\n",
    "    node_size = np.sqrt(deg + 1) * 20  # Scale node sizes for better visualization\n",
    "\n",
    "    # Visualize nodes with community colors\n",
    "    nx.draw_networkx_nodes(\n",
    "        G, pos_G_d, node_size=node_size, ax=ax1, \n",
    "        node_color=list(node_com.values()),  # Color nodes by community\n",
    "        node_shape='o', edgecolors='k', linewidths=0.8, alpha=0.7\n",
    "    )\n",
    "    \n",
    "    # Visualize edges\n",
    "    nx.draw_networkx_edges(\n",
    "        G, pos_G_d, width=0.3, ax=ax1, \n",
    "        edge_color='grey', alpha=0.1  # Light grey edges for better node visibility\n",
    "    )\n",
    "\n",
    "    # Configure plot aesthetics\n",
    "    ax1.set_xlim(-1.1, 1.1)\n",
    "    ax1.set_ylim(-1.1, 1.1)\n",
    "    ax1.axis(\"off\")  # Hide axes for cleaner visualization\n",
    "    ax1.set_title(f'MlHypEmb - Layer {layer_name}', fontsize=20)\n",
    "    ax1.set_aspect('equal', 'box')  # Maintain circular shape\n",
    "\n",
    "# Adjust layout for optimal spacing\n",
    "fig.tight_layout()\n",
    "\n",
    "# Display the visualization\n",
    "#plt.savefig('sbm_ml_embed_1.pdf')\n",
    "plt.show()\n"
   ]
  },
  {
   "cell_type": "code",
   "execution_count": 5,
   "id": "9c4825c5-2079-44bd-a0d4-5e8b07b1cde6",
   "metadata": {},
   "outputs": [
    {
     "name": "stdout",
     "output_type": "stream",
     "text": []
    },
    {
     "name": "stdout",
     "output_type": "stream",
     "text": []
    }
   ],
   "source": [
    "### Visualization of Independent Layer Embeddings ###\n",
    "\n",
    "## --- Embed each layer separately --- ##\n",
    "\n",
    "# Initialize a list to store individual embeddings for each layer\n",
    "emb_layers_tot = []\n",
    "\n",
    "# Process each layer independently through hyperbolic embedding\n",
    "for mat in mat_tot:\n",
    "    # Initialize embedding object with optimized parameters for hyperbolic space\n",
    "    Emb_obj_ind = MlHypEmb(preweight=True, weight='weight', beta=2500, eta='auto',\n",
    "                       method='Isomap', beta_dist=100, metric='precomputed',\n",
    "                       n_neighbors='auto', radius='degree')\n",
    "    \n",
    "    # Process single layer matrix and compute its global structure\n",
    "    Emb_obj_ind.Load_data(matrices=[mat], mu_mat=None, L_global=mat)\n",
    "    \n",
    "    # Generate hyperbolic embedding for the current layer\n",
    "    Emb_obj_ind.Embedding(n_jobs=-1)\n",
    "\n",
    "    # Store the 2D embedding coordinates\n",
    "    emb_layers_tot.append(Emb_obj_ind.embeddings[0])\n",
    "\n",
    "## --- Visualize layer-wise embeddings --- ##\n",
    "\n",
    "# Configure visualization layout\n",
    "fig = plt.figure(figsize=(5 * (n_layers + 1) // 2, 5 * 2))\n",
    "plt.rcParams['axes.linewidth'] = 2\n",
    "\n",
    "# Generate individual plots for each layer\n",
    "for layer_i in range(len(layers_names)):\n",
    "    layer_id = list(layers_names)[layer_i]\n",
    "    layer_name = layers_names[layer_id]\n",
    "    \n",
    "    print(f\"Plot layer: {layer_name}, ID: {layer_id}\")\n",
    "    \n",
    "    # Create subplot and extract layer-specific data\n",
    "    ax1 = fig.add_subplot(2, (n_layers + 1) // 2, layer_i + 1)\n",
    "    G = G_tot[layer_i]\n",
    "    pos_G = emb_layers_tot[layer_i]\n",
    "    \n",
    "    # Map node IDs to their embedded coordinates\n",
    "    pos_G_d = {node: pos_G[i, :] for i, node in enumerate(G.nodes())}\n",
    "    \n",
    "    # Add reference points for hyperbolic space\n",
    "    ax1.plot([0], [0], 'o', color='black', markersize=3)  # Origin\n",
    "    circle = plt.Circle((0, 0), 1, edgecolor='gray', facecolor='none', linewidth=1)  # Unit disk boundary\n",
    "    ax1.add_artist(circle)\n",
    "\n",
    "    # Scale node sizes based on connectivity\n",
    "    deg = np.array(list(dict(G.degree(weight='weight')).values()))\n",
    "    node_size = np.sqrt(deg + 1) * 20\n",
    "\n",
    "    # Visualize nodes with community-based coloring\n",
    "    nx.draw_networkx_nodes(G, pos_G_d, node_size=node_size, ax=ax1,\n",
    "                           node_color=list(node_com.values()),\n",
    "                           node_shape='o', edgecolors='k',\n",
    "                           linewidths=0.8, alpha=0.7)\n",
    "    \n",
    "    # Add network edges with transparency\n",
    "    nx.draw_networkx_edges(G, pos_G_d, width=0.3, ax=ax1,\n",
    "                          edge_color='grey', alpha=0.1)\n",
    "\n",
    "    # Configure subplot aesthetics\n",
    "    ax1.set_xlim(-1.1, 1.1)\n",
    "    ax1.set_ylim(-1.1, 1.1)\n",
    "    ax1.axis(\"off\")\n",
    "    ax1.set_title(f'Ind Emb - Layer {layer_name}', fontsize=20)\n",
    "    ax1.set_aspect('equal', 'box')\n",
    "\n",
    "# Optimize subplot layout\n",
    "fig.tight_layout()\n",
    "\n",
    "# Display final visualization\n",
    "#plt.savefig('sbm_ind_embed_1.pdf')\n",
    "plt.show()\n"
   ]
  }
 ],
 "metadata": {
  "kernelspec": {
   "display_name": "MLNHypEmb_mf.venv (3.9.6)",
   "language": "python",
   "name": "python3"
  },
  "language_info": {
   "codemirror_mode": {
    "name": "ipython",
    "version": 3
   },
   "file_extension": ".py",
   "mimetype": "text/x-python",
   "name": "python",
   "nbconvert_exporter": "python",
   "pygments_lexer": "ipython3",
   "version": "3.9.6"
  }
 },
 "nbformat": 4,
 "nbformat_minor": 5
}
